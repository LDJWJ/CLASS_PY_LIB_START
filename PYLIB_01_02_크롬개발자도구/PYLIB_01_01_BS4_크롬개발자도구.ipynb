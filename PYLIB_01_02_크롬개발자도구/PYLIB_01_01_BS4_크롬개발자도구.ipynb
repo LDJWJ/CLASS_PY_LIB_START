{
 "cells": [
  {
   "cell_type": "markdown",
   "metadata": {},
   "source": [
    "## 크롬 개발자 도구"
   ]
  },
  {
   "cell_type": "markdown",
   "metadata": {},
   "source": [
    "### 학습 목표\n",
    " * 개발자 도구를 활용하여 웹에서의 데이터를 가져오는 것을 알아본다."
   ]
  },
  {
   "cell_type": "markdown",
   "metadata": {},
   "source": [
    "### 크롬 개발자 도구\n",
    " * 구글에서 만든 웹 브라우저인 크롬에 제공되는 도구\n",
    " * HTML, CSS, JavaScript의 생산성을 극대화 할 수 있음."
   ]
  },
  {
   "cell_type": "markdown",
   "metadata": {},
   "source": [
    "### 크롬 개발자 도구 활성화하기(Window)"
   ]
  },
  {
   "cell_type": "markdown",
   "metadata": {},
   "source": [
    "* 메뉴에서 활성화하기 \n",
    "  * 메뉴 -> 도구 더보기 -> 개발자 도구\n",
    "* 단축키1 \n",
    "  * F12단축키로 활성화\n",
    "* 단축키2\n",
    "  * Ctrl + Shilt + I (맥은 Command + Option + I)"
   ]
  },
  {
   "cell_type": "markdown",
   "metadata": {},
   "source": [
    "* 개발자 도구 실행 후, Elements의 탭을 이용하여 html 코드 확인 가능"
   ]
  },
  {
   "cell_type": "markdown",
   "metadata": {},
   "source": [
    "### 웹 페이지의 원하는 정보 가져오기"
   ]
  },
  {
   "cell_type": "markdown",
   "metadata": {},
   "source": [
    "<pre>\n",
    "웹에서의 정보를 가져오기 위해 HTML의 구조와 어느 위치에 있는지를 알아야 한다. 우리는 크롬 개발자 도구를 이용하여 원하는 정보의 위치와 해당 위치에 있는 정보를 확인 후, 해당 정보를 가져올 수 있다.\n",
    "</pre>"
   ]
  },
  {
   "cell_type": "markdown",
   "metadata": {},
   "source": [
    "<img src=\"../img/crawling1.png\">"
   ]
  },
  {
   "cell_type": "markdown",
   "metadata": {},
   "source": [
    "### 개발자 도구 선택\n",
    "<img src=\"../img/crawling2.png\">"
   ]
  },
  {
   "cell_type": "markdown",
   "metadata": {},
   "source": [
    "### 대상 위치를 선택하여 HTML 에서 확인하기\n",
    "<img src=\"../img/crawling3.png\">"
   ]
  },
  {
   "cell_type": "markdown",
   "metadata": {},
   "source": [
    "### 실습 \n",
    " * 정보 가져와 보기\n",
    " * urlopen : 웹 페이지 정보\n",
    " * BeautifulSoup : 획득된 정보 구조화"
   ]
  },
  {
   "cell_type": "code",
   "execution_count": 6,
   "metadata": {},
   "outputs": [],
   "source": [
    "from urllib.request import urlopen\n",
    "from bs4 import BeautifulSoup"
   ]
  },
  {
   "cell_type": "code",
   "execution_count": 17,
   "metadata": {},
   "outputs": [],
   "source": [
    "url = \"https://finance.naver.com/sise/\"\n",
    "page = urlopen(url)\n",
    "soup = BeautifulSoup(page, \"html.parser\")"
   ]
  },
  {
   "cell_type": "code",
   "execution_count": 18,
   "metadata": {},
   "outputs": [
    {
     "name": "stdout",
     "output_type": "stream",
     "text": [
      "<title>국내증시 : 네이버 금융</title>\n",
      "<script language=\"javascript\">\n",
      " function main_tab(tab_title, pst, tab_cnt)\n",
      "{\n",
      "\tfor(var i=0 ; i<tab_cnt ; i++)\n",
      "\t{\n",
      "\t\tif (i == pst)\n",
      "\t\t\tdocument.getElementById(tab_title+'_title_tab_'+i).style.display = '';\n",
      "\t\telse\n",
      "\t\t\tdocument.getElementById(tab_title+'_title_tab_'+i).style.display = 'none';\n",
      "\n",
      "\n",
      "\t\tif (i == \n"
     ]
    }
   ],
   "source": [
    "print(soup.title)\n",
    "print(soup.prettify()[0:300])"
   ]
  },
  {
   "cell_type": "markdown",
   "metadata": {},
   "source": [
    "### 코스피 지수 가져오기"
   ]
  },
  {
   "cell_type": "code",
   "execution_count": 19,
   "metadata": {},
   "outputs": [
    {
     "data": {
      "text/plain": [
       "<span class=\"num\" id=\"KOSPI_now\">2,718.89</span>"
      ]
     },
     "execution_count": 19,
     "metadata": {},
     "output_type": "execute_result"
    }
   ],
   "source": [
    "soup.find('span', id=\"KOSPI_now\")"
   ]
  },
  {
   "cell_type": "code",
   "execution_count": 20,
   "metadata": {},
   "outputs": [
    {
     "data": {
      "text/plain": [
       "'2,718.89'"
      ]
     },
     "execution_count": 20,
     "metadata": {},
     "output_type": "execute_result"
    }
   ],
   "source": [
    "soup.find('span', id=\"KOSPI_now\").text"
   ]
  },
  {
   "cell_type": "markdown",
   "metadata": {},
   "source": [
    "### 실습 - 코스닥, 코스피200지수 가져오기"
   ]
  }
 ],
 "metadata": {
  "kernelspec": {
   "display_name": "Python 3",
   "language": "python",
   "name": "python3"
  },
  "language_info": {
   "codemirror_mode": {
    "name": "ipython",
    "version": 3
   },
   "file_extension": ".py",
   "mimetype": "text/x-python",
   "name": "python",
   "nbconvert_exporter": "python",
   "pygments_lexer": "ipython3",
   "version": "3.8.5"
  }
 },
 "nbformat": 4,
 "nbformat_minor": 2
}
