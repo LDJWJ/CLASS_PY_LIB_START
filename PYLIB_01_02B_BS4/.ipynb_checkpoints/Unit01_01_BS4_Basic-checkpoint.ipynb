{
 "cells": [
  {
   "cell_type": "markdown",
   "metadata": {},
   "source": [
    "### 웹 데이터 수집 기본 다지기"
   ]
  },
  {
   "cell_type": "markdown",
   "metadata": {},
   "source": [
    "### 학습 목표\n",
    " * 웹 데이터 수집을 위한 기본 내용을 이해해 본다."
   ]
  },
  {
   "cell_type": "markdown",
   "metadata": {},
   "source": [
    "### urlopen함수와 BeautifulSoup함수의 이해"
   ]
  },
  {
   "cell_type": "markdown",
   "metadata": {},
   "source": [
    "### 학습내용 \n",
    " * urlopen() 함수 기본\n",
    " * BeautifulSoup() 함수 기본\n",
    " * lxml등을 이용한 html 정보를 구조화 시키기\n",
    " * 정보 가져오는 여러가지 방법"
   ]
  },
  {
   "cell_type": "markdown",
   "metadata": {},
   "source": [
    "### 01 urlopen 함수 이해\n",
    "* urllib.request - url 처리와 관련된 모듈 패키지.\n",
    "* [패키지].[모듈].[함수()]의 형식으로 실행.\n",
    "* urlopen함수는 URL을 여는 함수이다.\n",
    "* 국내증시 html 정보 가져오기\n",
    "* url : https://finance.naver.com/sise/"
   ]
  },
  {
   "cell_type": "code",
   "execution_count": 1,
   "metadata": {},
   "outputs": [],
   "source": [
    "from urllib.request import urlopen"
   ]
  },
  {
   "cell_type": "code",
   "execution_count": 4,
   "metadata": {},
   "outputs": [
    {
     "data": {
      "text/plain": [
       "<http.client.HTTPResponse at 0x2ab646f0220>"
      ]
     },
     "execution_count": 4,
     "metadata": {},
     "output_type": "execute_result"
    }
   ],
   "source": [
    "## 정보 가져오기\n",
    "url = \"https://finance.naver.com/sise/\"\n",
    "page = urlopen(url)\n",
    "page"
   ]
  },
  {
   "cell_type": "markdown",
   "metadata": {},
   "source": [
    "### list() 함수를 활용한 획득 정보 일부를 확인"
   ]
  },
  {
   "cell_type": "code",
   "execution_count": 5,
   "metadata": {},
   "outputs": [
    {
     "data": {
      "text/plain": [
       "[b'\\n',\n",
       " b'\\n',\n",
       " b'\\n',\n",
       " b'\\n',\n",
       " b'\\n',\n",
       " b'\\n',\n",
       " b'\\n',\n",
       " b'\\n',\n",
       " b\"<script language='javascript'>\\n\",\n",
       " b'\\n',\n",
       " b'function main_tab(tab_title, pst, tab_cnt)\\n',\n",
       " b'{\\n',\n",
       " b'\\tfor(var i=0 ; i<tab_cnt ; i++)\\n',\n",
       " b'\\t{\\n',\n",
       " b'\\t\\tif (i == pst)\\n',\n",
       " b\"\\t\\t\\tdocument.getElementById(tab_title+'_title_tab_'+i).style.display = '';\\n\",\n",
       " b'\\t\\telse\\n',\n",
       " b\"\\t\\t\\tdocument.getElementById(tab_title+'_title_tab_'+i).style.display = 'none';\\n\",\n",
       " b'\\n',\n",
       " b'\\n']"
      ]
     },
     "execution_count": 5,
     "metadata": {},
     "output_type": "execute_result"
    }
   ],
   "source": [
    "listpage = list(page)\n",
    "listpage[0:20]"
   ]
  },
  {
   "cell_type": "markdown",
   "metadata": {},
   "source": [
    "### 02 BeautifulSoup 함수를 활용한 html 정보 구조화\n",
    "* BeautifulSoup 는 파이썬 라이브러리입니다.\n",
    "* HTML과 XML파일로부터 데이터를 쉽게 가져오기 위한 파이썬 라이브러리이다.\n",
    "* bs4의 모듈 안에 있음."
   ]
  },
  {
   "cell_type": "code",
   "execution_count": 5,
   "metadata": {},
   "outputs": [],
   "source": [
    "from bs4 import BeautifulSoup"
   ]
  },
  {
   "cell_type": "code",
   "execution_count": 6,
   "metadata": {},
   "outputs": [],
   "source": [
    "page = '''\n",
    "<html>\n",
    "<title>나의 홈페이지</title>\n",
    "<body>\n",
    "<div>\n",
    "<a href=\"https://www.naver.com/\">naver</a>\n",
    "<a href=\"https://www.google.com\">google</a>\n",
    "<img height=\"300\" src=\"dog_01.jpg\" width=\"500\"/>\n",
    "<p> 내가 가장 좋아하는 동물은 강아지입니다.</p>\n",
    "<p> 나는 그리고 네이버 홈페이지에 자주 갑니다.</p>\n",
    "<p class=\"p3\"> 강아지 사진과 네이버 링크 </p>\n",
    "<p id=\"p4\"> 간단한 나의 홈페이지를 만들다.</p>\n",
    "<p class=\"p3\"> 강아지 사진과 네이버 링크222 </p>\n",
    "</div>\n",
    "</body>\n",
    "</html>\n",
    "'''"
   ]
  },
  {
   "cell_type": "markdown",
   "metadata": {},
   "source": [
    "### 2-1 html을 파일로부터 읽을 때의 경우\n",
    "```\n",
    "page = open(\"mypage.html\", 'r', encoding=\"utf-8\").read()\n",
    "page\n",
    "```"
   ]
  },
  {
   "cell_type": "markdown",
   "metadata": {},
   "source": [
    "* HTML/XHTML을 텍스트 파일을 구문분석하기 몇가지 파서를 사용합니다.\n",
    "  * HTML Parse란 : HTML 문법 규칙을 따른 문자열을 다른 문법을 기준으로 단어의 의미나 구조를 분석하는 것을 말함. 이를 수행하는 프로그램을 HTML Parser라 한다."
   ]
  },
  {
   "cell_type": "markdown",
   "metadata": {},
   "source": [
    "* HTML 파서의 종류\n",
    "  * lxml : c로 구현된 가장 빠름.\n",
    "  * html5lib : 웹 브라우저 방식으로 HTML 해석\n",
    "  * html.parser"
   ]
  },
  {
   "cell_type": "markdown",
   "metadata": {},
   "source": [
    " * 특정 parser의 경우, 특정 태그가 포함되지 않는 오류가 있을 수 있음."
   ]
  },
  {
   "cell_type": "code",
   "execution_count": 7,
   "metadata": {},
   "outputs": [
    {
     "data": {
      "text/plain": [
       "<html>\n",
       "<head><title>나의 홈페이지</title>\n",
       "</head><body>\n",
       "<div>\n",
       "<a href=\"https://www.naver.com/\">naver</a>\n",
       "<a href=\"https://www.google.com\">google</a>\n",
       "<img height=\"300\" src=\"dog_01.jpg\" width=\"500\"/>\n",
       "<p> 내가 가장 좋아하는 동물은 강아지입니다.</p>\n",
       "<p> 나는 그리고 네이버 홈페이지에 자주 갑니다.</p>\n",
       "<p class=\"p3\"> 강아지 사진과 네이버 링크 </p>\n",
       "<p id=\"p4\"> 간단한 나의 홈페이지를 만들다.</p>\n",
       "<p class=\"p3\"> 강아지 사진과 네이버 링크222 </p>\n",
       "</div>\n",
       "</body>\n",
       "</html>"
      ]
     },
     "execution_count": 7,
     "metadata": {},
     "output_type": "execute_result"
    }
   ],
   "source": [
    "soup = BeautifulSoup(page, 'lxml')\n",
    "soup"
   ]
  },
  {
   "cell_type": "code",
   "execution_count": 8,
   "metadata": {},
   "outputs": [
    {
     "data": {
      "text/plain": [
       "<head><title>나의 홈페이지</title>\n",
       "</head>"
      ]
     },
     "execution_count": 8,
     "metadata": {},
     "output_type": "execute_result"
    }
   ],
   "source": [
    "## soup 정보에서 head 부분 가져오기 \n",
    "soup.head"
   ]
  },
  {
   "cell_type": "code",
   "execution_count": 9,
   "metadata": {},
   "outputs": [
    {
     "data": {
      "text/plain": [
       "<body>\n",
       "<div>\n",
       "<a href=\"https://www.naver.com/\">naver</a>\n",
       "<a href=\"https://www.google.com\">google</a>\n",
       "<img height=\"300\" src=\"dog_01.jpg\" width=\"500\"/>\n",
       "<p> 내가 가장 좋아하는 동물은 강아지입니다.</p>\n",
       "<p> 나는 그리고 네이버 홈페이지에 자주 갑니다.</p>\n",
       "<p class=\"p3\"> 강아지 사진과 네이버 링크 </p>\n",
       "<p id=\"p4\"> 간단한 나의 홈페이지를 만들다.</p>\n",
       "<p class=\"p3\"> 강아지 사진과 네이버 링크222 </p>\n",
       "</div>\n",
       "</body>"
      ]
     },
     "execution_count": 9,
     "metadata": {},
     "output_type": "execute_result"
    }
   ],
   "source": [
    "## soup 정보에서 body 부분 가져오기 \n",
    "soup.body"
   ]
  },
  {
   "cell_type": "code",
   "execution_count": 10,
   "metadata": {},
   "outputs": [
    {
     "data": {
      "text/plain": [
       "<p> 내가 가장 좋아하는 동물은 강아지입니다.</p>"
      ]
     },
     "execution_count": 10,
     "metadata": {},
     "output_type": "execute_result"
    }
   ],
   "source": [
    "## soup 정보에서 body 부분안의 p태그 부분 가져오기 \n",
    "soup.body.p"
   ]
  },
  {
   "cell_type": "code",
   "execution_count": 11,
   "metadata": {},
   "outputs": [
    {
     "data": {
      "text/plain": [
       "' 내가 가장 좋아하는 동물은 강아지입니다.'"
      ]
     },
     "execution_count": 11,
     "metadata": {},
     "output_type": "execute_result"
    }
   ],
   "source": [
    "## soup 정보에서 body 부분안의 p태그 부분 텍스트 정보 가져오기\n",
    "soup.body.p.text"
   ]
  },
  {
   "cell_type": "code",
   "execution_count": 12,
   "metadata": {},
   "outputs": [
    {
     "name": "stdout",
     "output_type": "stream",
     "text": [
      "<html>\n",
      " <head>\n",
      "  <title>\n",
      "   나의 홈페이지\n",
      "  </title>\n",
      " </head>\n",
      " <body>\n",
      "  <div>\n",
      "   <a href=\"https://www.naver.com/\">\n",
      "    naver\n",
      "   </a>\n",
      "   <a href=\"https://www.google.com\">\n",
      "    google\n",
      "   </a>\n",
      "   <img height=\"300\" src=\"dog_01.jpg\" width=\"500\"/>\n",
      "   <p>\n",
      "    내가 가장 좋아하는 동물은 강아지입니다.\n",
      "   </p>\n",
      "   <p>\n",
      "    나는 그리고 네이버 홈페이지에 자주 갑니다.\n",
      "   </p>\n",
      "   <p class=\"p3\">\n",
      "    강아지 사진과 네이버 링크\n",
      "   </p>\n",
      "   <p id=\"p4\">\n",
      "    간단한 나의 홈페이지를 만들다.\n",
      "   </p>\n",
      "   <p class=\"p3\">\n",
      "    강아지 사진과 네이버 링크222\n",
      "   </p>\n",
      "  </div>\n",
      " </body>\n",
      "</html>\n",
      "\n"
     ]
    }
   ],
   "source": [
    "print(soup.prettify())"
   ]
  },
  {
   "cell_type": "markdown",
   "metadata": {},
   "source": [
    "### 2-2 children 정보를 활용하는 방법\n",
    " * children에 대해 알아보기\n",
    " * 어떤 부모보다 한 태그 아래 위치한 태그"
   ]
  },
  {
   "cell_type": "code",
   "execution_count": 17,
   "metadata": {},
   "outputs": [
    {
     "data": {
      "text/plain": [
       "<list_iterator at 0x2ab64b3ee80>"
      ]
     },
     "execution_count": 17,
     "metadata": {},
     "output_type": "execute_result"
    }
   ],
   "source": [
    "soup.body.children"
   ]
  },
  {
   "cell_type": "markdown",
   "metadata": {},
   "source": [
    "### body 태그 아래 children 내용 확인"
   ]
  },
  {
   "cell_type": "code",
   "execution_count": 18,
   "metadata": {},
   "outputs": [
    {
     "data": {
      "text/plain": [
       "['\\n',\n",
       " <div>\n",
       " <a href=\"https://www.naver.com/\">naver</a>\n",
       " <a href=\"https://www.google.com\">google</a>\n",
       " <img height=\"300\" src=\"dog_01.jpg\" width=\"500\"/>\n",
       " <p> 내가 가장 좋아하는 동물은 강아지입니다.</p>\n",
       " <p> 나는 그리고 네이버 홈페이지에 자주 갑니다.</p>\n",
       " <p class=\"p3\"> 강아지 사진과 네이버 링크 </p>\n",
       " <p id=\"p4\"> 간단한 나의 홈페이지를 만들다.</p>\n",
       " <p class=\"p3\"> 강아지 사진과 네이버 링크222 </p>\n",
       " </div>,\n",
       " '\\n']"
      ]
     },
     "execution_count": 18,
     "metadata": {},
     "output_type": "execute_result"
    }
   ],
   "source": [
    "list(soup.body.children)"
   ]
  },
  {
   "cell_type": "code",
   "execution_count": 19,
   "metadata": {},
   "outputs": [
    {
     "data": {
      "text/plain": [
       "<div>\n",
       "<a href=\"https://www.naver.com/\">naver</a>\n",
       "<a href=\"https://www.google.com\">google</a>\n",
       "<img height=\"300\" src=\"dog_01.jpg\" width=\"500\"/>\n",
       "<p> 내가 가장 좋아하는 동물은 강아지입니다.</p>\n",
       "<p> 나는 그리고 네이버 홈페이지에 자주 갑니다.</p>\n",
       "<p class=\"p3\"> 강아지 사진과 네이버 링크 </p>\n",
       "<p id=\"p4\"> 간단한 나의 홈페이지를 만들다.</p>\n",
       "<p class=\"p3\"> 강아지 사진과 네이버 링크222 </p>\n",
       "</div>"
      ]
     },
     "execution_count": 19,
     "metadata": {},
     "output_type": "execute_result"
    }
   ],
   "source": [
    "tmp = list(soup.body.children)[1]\n",
    "tmp"
   ]
  },
  {
   "cell_type": "code",
   "execution_count": 23,
   "metadata": {},
   "outputs": [
    {
     "data": {
      "text/plain": [
       "<a href=\"https://www.google.com\">google</a>"
      ]
     },
     "execution_count": 23,
     "metadata": {},
     "output_type": "execute_result"
    }
   ],
   "source": [
    "list(tmp.children)[3]"
   ]
  },
  {
   "cell_type": "markdown",
   "metadata": {},
   "source": [
    "### 2-3  find_all(), find()을 이용한 정보 얻기\n",
    " * find_all() : 조건이 맞는 전체 정보를 리스트로 가져오기\n",
    " * find() : 조건이 맞는 정보 하나만 가져오기"
   ]
  },
  {
   "cell_type": "code",
   "execution_count": 26,
   "metadata": {},
   "outputs": [
    {
     "data": {
      "text/plain": [
       "[<p> 내가 가장 좋아하는 동물은 강아지입니다.</p>,\n",
       " <p> 나는 그리고 네이버 홈페이지에 자주 갑니다.</p>,\n",
       " <p class=\"p3\"> 강아지 사진과 네이버 링크 </p>,\n",
       " <p id=\"p4\"> 간단한 나의 홈페이지를 만들다.</p>,\n",
       " <p class=\"p3\"> 강아지 사진과 네이버 링크222 </p>]"
      ]
     },
     "execution_count": 26,
     "metadata": {},
     "output_type": "execute_result"
    }
   ],
   "source": [
    "soup.find_all('p')"
   ]
  },
  {
   "cell_type": "code",
   "execution_count": 27,
   "metadata": {},
   "outputs": [
    {
     "data": {
      "text/plain": [
       "<p> 내가 가장 좋아하는 동물은 강아지입니다.</p>"
      ]
     },
     "execution_count": 27,
     "metadata": {},
     "output_type": "execute_result"
    }
   ],
   "source": [
    "soup.find('p')"
   ]
  },
  {
   "cell_type": "code",
   "execution_count": 28,
   "metadata": {},
   "outputs": [
    {
     "data": {
      "text/plain": [
       "<div>\n",
       "<a href=\"https://www.naver.com/\">naver</a>\n",
       "<a href=\"https://www.google.com\">google</a>\n",
       "<img height=\"300\" src=\"dog_01.jpg\" width=\"500\"/>\n",
       "<p> 내가 가장 좋아하는 동물은 강아지입니다.</p>\n",
       "<p> 나는 그리고 네이버 홈페이지에 자주 갑니다.</p>\n",
       "<p class=\"p3\"> 강아지 사진과 네이버 링크 </p>\n",
       "<p id=\"p4\"> 간단한 나의 홈페이지를 만들다.</p>\n",
       "<p class=\"p3\"> 강아지 사진과 네이버 링크222 </p>\n",
       "</div>"
      ]
     },
     "execution_count": 28,
     "metadata": {},
     "output_type": "execute_result"
    }
   ],
   "source": [
    "soup.find('div')"
   ]
  },
  {
   "cell_type": "markdown",
   "metadata": {},
   "source": [
    "* HTML 속성 정보인 class_, id로 활용하여 정보를 가져올 수 있음."
   ]
  },
  {
   "cell_type": "code",
   "execution_count": 31,
   "metadata": {},
   "outputs": [
    {
     "data": {
      "text/plain": [
       "[<p class=\"p3\"> 강아지 사진과 네이버 링크 </p>, <p class=\"p3\"> 강아지 사진과 네이버 링크222 </p>]"
      ]
     },
     "execution_count": 31,
     "metadata": {},
     "output_type": "execute_result"
    }
   ],
   "source": [
    "soup.find_all('p', class_='p3')"
   ]
  },
  {
   "cell_type": "code",
   "execution_count": 32,
   "metadata": {},
   "outputs": [
    {
     "data": {
      "text/plain": [
       "[<p id=\"p4\"> 간단한 나의 홈페이지를 만들다.</p>]"
      ]
     },
     "execution_count": 32,
     "metadata": {},
     "output_type": "execute_result"
    }
   ],
   "source": [
    "soup.find_all(id='p4')"
   ]
  },
  {
   "cell_type": "markdown",
   "metadata": {},
   "source": [
    "### 2-4 p 태그의 문자들만 가져오기"
   ]
  },
  {
   "cell_type": "code",
   "execution_count": 33,
   "metadata": {},
   "outputs": [
    {
     "name": "stdout",
     "output_type": "stream",
     "text": [
      "<p> 내가 가장 좋아하는 동물은 강아지입니다.</p>\n",
      "<p> 나는 그리고 네이버 홈페이지에 자주 갑니다.</p>\n",
      "<p class=\"p3\"> 강아지 사진과 네이버 링크 </p>\n",
      "<p id=\"p4\"> 간단한 나의 홈페이지를 만들다.</p>\n",
      "<p class=\"p3\"> 강아지 사진과 네이버 링크222 </p>\n"
     ]
    }
   ],
   "source": [
    "for ptag in soup.find_all('p'):\n",
    "    print(ptag)"
   ]
  },
  {
   "cell_type": "code",
   "execution_count": 34,
   "metadata": {},
   "outputs": [
    {
     "name": "stdout",
     "output_type": "stream",
     "text": [
      " 내가 가장 좋아하는 동물은 강아지입니다.\n",
      " 나는 그리고 네이버 홈페이지에 자주 갑니다.\n",
      " 강아지 사진과 네이버 링크 \n",
      " 간단한 나의 홈페이지를 만들다.\n",
      " 강아지 사진과 네이버 링크222 \n"
     ]
    }
   ],
   "source": [
    "for ptag in soup.find_all('p'):\n",
    "    print(ptag.get_text())"
   ]
  },
  {
   "cell_type": "markdown",
   "metadata": {},
   "source": [
    "### 2-5 링크 가져오기(link)"
   ]
  },
  {
   "cell_type": "code",
   "execution_count": 35,
   "metadata": {},
   "outputs": [
    {
     "data": {
      "text/plain": [
       "[<a href=\"https://www.naver.com/\">naver</a>,\n",
       " <a href=\"https://www.google.com\">google</a>]"
      ]
     },
     "execution_count": 35,
     "metadata": {},
     "output_type": "execute_result"
    }
   ],
   "source": [
    "soup.find_all('a')"
   ]
  },
  {
   "cell_type": "code",
   "execution_count": 36,
   "metadata": {},
   "outputs": [
    {
     "name": "stdout",
     "output_type": "stream",
     "text": [
      "https://www.google.com\n",
      "google\n"
     ]
    }
   ],
   "source": [
    "links = soup.find_all('a')\n",
    "print(links[1]['href'])\n",
    "print(links[1].string)"
   ]
  },
  {
   "cell_type": "code",
   "execution_count": 37,
   "metadata": {},
   "outputs": [
    {
     "name": "stdout",
     "output_type": "stream",
     "text": [
      "naver -> https://www.naver.com/\n",
      "google -> https://www.google.com\n"
     ]
    }
   ],
   "source": [
    "for each in links:\n",
    "    href = each['href']\n",
    "    text = each.string\n",
    "    print(text + ' -> ' + href)"
   ]
  },
  {
   "cell_type": "markdown",
   "metadata": {},
   "source": [
    "<p style=\"text-align: right; font-size:1px;color:#B0BEC5\"> 교육의 목적으로 수강생의 개인 학습 이외의 허가 없이 배포 및 복제를 금합니다.<br> Copyright 2021. daniel lim Co., Ltd. all rights reserved.</p>"
   ]
  },
  {
   "cell_type": "code",
   "execution_count": null,
   "metadata": {},
   "outputs": [],
   "source": []
  }
 ],
 "metadata": {
  "kernelspec": {
   "display_name": "Python 3",
   "language": "python",
   "name": "python3"
  },
  "language_info": {
   "codemirror_mode": {
    "name": "ipython",
    "version": 3
   },
   "file_extension": ".py",
   "mimetype": "text/x-python",
   "name": "python",
   "nbconvert_exporter": "python",
   "pygments_lexer": "ipython3",
   "version": "3.8.5"
  }
 },
 "nbformat": 4,
 "nbformat_minor": 2
}
