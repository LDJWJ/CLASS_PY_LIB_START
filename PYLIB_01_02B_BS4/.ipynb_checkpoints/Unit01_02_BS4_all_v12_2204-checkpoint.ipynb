{
 "cells": [
  {
   "cell_type": "markdown",
   "metadata": {},
   "source": [
    "## BeautifulSoup 실습"
   ]
  },
  {
   "cell_type": "markdown",
   "metadata": {},
   "source": [
    "### 학습 목표 \n",
    " * 기본 실습을 통해서 BeautifulSoup를 기본을 이해한다."
   ]
  },
  {
   "cell_type": "markdown",
   "metadata": {},
   "source": [
    "### 웹 정보수집 라이브러리"
   ]
  },
  {
   "cell_type": "markdown",
   "metadata": {},
   "source": [
    "* 웹 데이터를 요청 - requests, urllib(내장 모듈)\n",
    "* HTML 소스코드를 Python에서 쉽게 사용가능하도록 구조화- BeautifulSoup\n",
    "* 동적 웹 수집 라이브러리 - selenium"
   ]
  },
  {
   "cell_type": "markdown",
   "metadata": {},
   "source": [
    "### 1-1 기본 예제(lxml)"
   ]
  },
  {
   "cell_type": "markdown",
   "metadata": {},
   "source": [
    "* lxml : 파서(Parser), 원시코드인 순수 문자열 객체를 해석할 수 있도록 분석.\n",
    "    * lxml : c로 구현된 가장 빠름.\n",
    "    * html5lib : 웹 브라우저 방식으로 HTML 해석\n",
    "    * html.parser"
   ]
  },
  {
   "cell_type": "code",
   "execution_count": 1,
   "metadata": {},
   "outputs": [
    {
     "name": "stdout",
     "output_type": "stream",
     "text": [
      "<html><body><p>test</p></body></html>\n"
     ]
    }
   ],
   "source": [
    "from bs4 import BeautifulSoup\n",
    "\n",
    "html = \"<p>test</p>\"\n",
    "soup = BeautifulSoup(html, 'lxml')\n",
    "print(soup)"
   ]
  },
  {
   "cell_type": "markdown",
   "metadata": {},
   "source": [
    "### 1-2 기본 예제(html5lib)"
   ]
  },
  {
   "cell_type": "code",
   "execution_count": 2,
   "metadata": {},
   "outputs": [
    {
     "name": "stdout",
     "output_type": "stream",
     "text": [
      "<html><head></head><body><p>test</p></body></html>\n"
     ]
    },
    {
     "data": {
      "text/plain": [
       "'<html>\\n <head>\\n </head>\\n <body>\\n  <p>\\n   test\\n  </p>\\n </body>\\n</html>'"
      ]
     },
     "execution_count": 2,
     "metadata": {},
     "output_type": "execute_result"
    }
   ],
   "source": [
    "from bs4 import BeautifulSoup\n",
    "\n",
    "html = \"<p>test</p>\"\n",
    "soup = BeautifulSoup(html, 'html5lib')\n",
    "print(soup)\n",
    "soup.prettify()"
   ]
  },
  {
   "cell_type": "markdown",
   "metadata": {},
   "source": [
    "### 1-3 lxml과 html5lib\n",
    " * lxml - Processing XML and HTML with Python\n",
    " * lxml은 C로 개발. XML과 HTML을 처리할 수 있는 가장 기능이 풍부하고 쉬운 라이브러리이다.\n",
    " * html5lib는 HTML 구문 분석을 위한 순수 파이썬 라이브러리이다. \n",
    " * lxml이 html5lib에 비해 속도가 빠르다.(C언어와 Python)"
   ]
  },
  {
   "cell_type": "markdown",
   "metadata": {},
   "source": [
    "### 1-4 HTML에서 정보 가져오기\n",
    " * title 태그 정보 가져오기"
   ]
  },
  {
   "cell_type": "code",
   "execution_count": 3,
   "metadata": {},
   "outputs": [],
   "source": [
    "from bs4 import BeautifulSoup\n",
    "\n",
    "html = \"\"\"\n",
    "<html>\n",
    "<head><title>나의 웹페이지</title></head>\n",
    "<p>test1</p>\n",
    "<p>test2</p>\n",
    "<p>test3</p>\n",
    "</html>\n",
    "\"\"\""
   ]
  },
  {
   "cell_type": "code",
   "execution_count": 4,
   "metadata": {},
   "outputs": [
    {
     "name": "stdout",
     "output_type": "stream",
     "text": [
      "나의 웹페이지\n",
      "title\n",
      "<class 'bs4.BeautifulSoup'>\n"
     ]
    }
   ],
   "source": [
    "soup = BeautifulSoup(html, 'lxml')\n",
    "tag_title = soup.title   # soup 내부의 title 정보를 가져온다. 가정 첫번째 것만 해당됨.\n",
    "print(tag_title.text)    # 정보 \n",
    "print(tag_title.name)\n",
    "print(type(soup))"
   ]
  },
  {
   "cell_type": "markdown",
   "metadata": {},
   "source": [
    "### 1-5 HTML에서 정보 가져오기\n",
    " * p 태그 정보 가져오기\n",
    " * p 태그의 속성 정보 가져오기\n",
    " * p 태그의 정보를 id로 가져오기\n",
    " * p 태그의 정보를 class로 가져오기"
   ]
  },
  {
   "cell_type": "code",
   "execution_count": 5,
   "metadata": {},
   "outputs": [],
   "source": [
    "from bs4 import BeautifulSoup\n",
    "\n",
    "html = \"\"\"\n",
    "<html>\n",
    "<head><title> test site </title></head>\n",
    "<p class='class1' align=\"left\">test3</p>\n",
    "<p class='class1'>test2</p>\n",
    "<p id='p1'>오늘의 주가지수 1500</p>\n",
    "<span class='class3'>span tag text</span>\n",
    "<p class='class4'>test3</p>\n",
    "</html>\n",
    "\"\"\""
   ]
  },
  {
   "cell_type": "code",
   "execution_count": 6,
   "metadata": {},
   "outputs": [
    {
     "data": {
      "text/plain": [
       "<p align=\"left\" class=\"class1\">test3</p>"
      ]
     },
     "execution_count": 6,
     "metadata": {},
     "output_type": "execute_result"
    }
   ],
   "source": [
    "soup = BeautifulSoup(html, 'lxml')\n",
    "soup.p"
   ]
  },
  {
   "cell_type": "markdown",
   "metadata": {},
   "source": [
    "### 속성 정보 가져오기"
   ]
  },
  {
   "cell_type": "code",
   "execution_count": 7,
   "metadata": {},
   "outputs": [
    {
     "data": {
      "text/plain": [
       "{'class': ['class1'], 'align': 'left'}"
      ]
     },
     "execution_count": 7,
     "metadata": {},
     "output_type": "execute_result"
    }
   ],
   "source": [
    "soup.p.attrs"
   ]
  },
  {
   "cell_type": "code",
   "execution_count": 8,
   "metadata": {},
   "outputs": [
    {
     "data": {
      "text/plain": [
       "'left'"
      ]
     },
     "execution_count": 8,
     "metadata": {},
     "output_type": "execute_result"
    }
   ],
   "source": [
    "# 속성의 값을 가져오기\n",
    "soup.p['align']"
   ]
  },
  {
   "cell_type": "code",
   "execution_count": 9,
   "metadata": {},
   "outputs": [
    {
     "name": "stdout",
     "output_type": "stream",
     "text": [
      "<span class=\"class3\">span tag text</span>\n",
      "{'class': ['class3']}\n",
      "span tag text\n",
      "['class3']\n"
     ]
    }
   ],
   "source": [
    "## p 태그의 정보를 id로 가져오기\n",
    "soup.p['align']   # p 태그내의 텍스트의 정렬 정보(align)가져오기\n",
    "\n",
    "# span 태그의 정보를 가져오기\n",
    "print( soup.span )\n",
    "print( soup.span.attrs)\n",
    "print( soup.span.text)\n",
    "print( soup.span['class'])"
   ]
  },
  {
   "cell_type": "markdown",
   "metadata": {},
   "source": [
    "### 실습 \n",
    " * 네이버 날씨의 온도 정보를 가져와 if문을 이용한 행동 선택해 보기"
   ]
  },
  {
   "cell_type": "markdown",
   "metadata": {},
   "source": [
    "### 1-6 만약 정보를 가져올 때, 에러가 발생하면 어떻게 될까?"
   ]
  },
  {
   "cell_type": "code",
   "execution_count": 10,
   "metadata": {},
   "outputs": [
    {
     "name": "stdout",
     "output_type": "stream",
     "text": [
      "{'class': ['class1'], 'align': 'left'}\n"
     ]
    }
   ],
   "source": [
    "soup = BeautifulSoup(html, 'lxml')\n",
    "tag_p = soup.p\n",
    "tag_title = soup.title\n",
    "\n",
    "print(tag_p.attrs)"
   ]
  },
  {
   "cell_type": "code",
   "execution_count": 11,
   "metadata": {},
   "outputs": [
    {
     "ename": "KeyError",
     "evalue": "'style'",
     "output_type": "error",
     "traceback": [
      "\u001b[1;31m---------------------------------------------------------------------------\u001b[0m",
      "\u001b[1;31mKeyError\u001b[0m                                  Traceback (most recent call last)",
      "\u001b[1;32m<ipython-input-11-888641df517d>\u001b[0m in \u001b[0;36m<module>\u001b[1;34m\u001b[0m\n\u001b[1;32m----> 1\u001b[1;33m \u001b[0mprint\u001b[0m\u001b[1;33m(\u001b[0m\u001b[0mtag_p\u001b[0m\u001b[1;33m[\u001b[0m\u001b[1;34m'style'\u001b[0m\u001b[1;33m]\u001b[0m\u001b[1;33m)\u001b[0m   \u001b[1;31m# style가 없어 에러 발생\u001b[0m\u001b[1;33m\u001b[0m\u001b[1;33m\u001b[0m\u001b[0m\n\u001b[0m",
      "\u001b[1;32m~\\anaconda3\\lib\\site-packages\\bs4\\element.py\u001b[0m in \u001b[0;36m__getitem__\u001b[1;34m(self, key)\u001b[0m\n\u001b[0;32m   1404\u001b[0m         \"\"\"tag[key] returns the value of the 'key' attribute for the Tag,\n\u001b[0;32m   1405\u001b[0m         and throws an exception if it's not there.\"\"\"\n\u001b[1;32m-> 1406\u001b[1;33m         \u001b[1;32mreturn\u001b[0m \u001b[0mself\u001b[0m\u001b[1;33m.\u001b[0m\u001b[0mattrs\u001b[0m\u001b[1;33m[\u001b[0m\u001b[0mkey\u001b[0m\u001b[1;33m]\u001b[0m\u001b[1;33m\u001b[0m\u001b[1;33m\u001b[0m\u001b[0m\n\u001b[0m\u001b[0;32m   1407\u001b[0m \u001b[1;33m\u001b[0m\u001b[0m\n\u001b[0;32m   1408\u001b[0m     \u001b[1;32mdef\u001b[0m \u001b[0m__iter__\u001b[0m\u001b[1;33m(\u001b[0m\u001b[0mself\u001b[0m\u001b[1;33m)\u001b[0m\u001b[1;33m:\u001b[0m\u001b[1;33m\u001b[0m\u001b[1;33m\u001b[0m\u001b[0m\n",
      "\u001b[1;31mKeyError\u001b[0m: 'style'"
     ]
    }
   ],
   "source": [
    "print(tag_p['style'])   # style가 없어 에러 발생"
   ]
  },
  {
   "cell_type": "code",
   "execution_count": 12,
   "metadata": {},
   "outputs": [
    {
     "name": "stdout",
     "output_type": "stream",
     "text": [
      "None\n"
     ]
    }
   ],
   "source": [
    "print(tag_p.get('style'))    # get 을 이용하면 이에 대한 에러를 방지할 수 있다."
   ]
  },
  {
   "cell_type": "markdown",
   "metadata": {},
   "source": [
    "### 1-6 HTML에서 정보 가져오기\n",
    " * 태그와 태그 사이의 text 정보를 가져오기\n",
    " * text와 string 를 이용하기 \n",
    " * text는 태그들의 하위 내용까지 값 전체 출력\n",
    " * string은 정확히 선택된 태그에 대해서만 값 출력 "
   ]
  },
  {
   "cell_type": "code",
   "execution_count": 13,
   "metadata": {},
   "outputs": [
    {
     "name": "stdout",
     "output_type": "stream",
     "text": [
      "[].text 속성 :  \n",
      "test1\n",
      "test2\n",
      "test3\n",
      " <class 'str'>\n",
      "\n",
      "[].string 속성 :  None <class 'NoneType'>\n",
      "[].string 속성 :  test1\n"
     ]
    }
   ],
   "source": [
    "from bs4 import BeautifulSoup\n",
    "html = \"\"\"\n",
    "<html>\n",
    "<head>\n",
    "<title> text와 string의 차이 </title></head>\n",
    "<p>\n",
    "    <span>test1</span>\n",
    "    <span>test2</span>\n",
    "    <span><b>test3</b></span>\n",
    "</p>\n",
    "</html>\n",
    "\"\"\"\n",
    "soup = BeautifulSoup(html, 'lxml')\n",
    "tag_p = soup.p # soup 내부의 p태그 정보를 가져온다. 가정 첫번째 것만 해당됨.\n",
    "\n",
    "data_text = tag_p.text\n",
    "data_string = tag_p.string\n",
    "data_span_str = tag_p.span.string\n",
    "\n",
    "# text를 이용한 하위 정보 전체 출력 \n",
    "print(\"[].text 속성 : \", data_text, type(data_text) )\n",
    "print()\n",
    "\n",
    "# string을 이용한 현재 내용에 대해서만 출력 \n",
    "print(\"[].string 속성 : \", data_string, type(data_string) )\n",
    "\n",
    "# string을 이용한 span 태그의 첫번째 줄에 대해서만 출력\n",
    "print(\"[].string 속성 : \",data_span_str)"
   ]
  },
  {
   "cell_type": "markdown",
   "metadata": {},
   "source": [
    "### 1-7 find와 find_all를 이용하기\n",
    " * open을 이용하여 파일을 열기\n",
    "    * open([파일명], [읽기모드/쓰기모드], encoding='인코딩방식')\n",
    " * p 태그의 전체 정보를 가져오기"
   ]
  },
  {
   "cell_type": "code",
   "execution_count": 14,
   "metadata": {},
   "outputs": [],
   "source": [
    "from bs4 import BeautifulSoup\n",
    "\n",
    "html = '''\n",
    "<html>\n",
    "<head><title>나의 홈페이지</title>\n",
    "</head><body>\n",
    "안녕하세요\n",
    "<div>\n",
    "<a class='url' href=\"https://www.naver.com/\">naver</a>\n",
    "<a class='url' href=\"https://www.google.com/\">google</a>\n",
    "<p> 내가 가장 좋아하는 동물은 강아지입니다.</p>\n",
    "<p> 나는 그리고 네이버 홈페이지에 자주 갑니다.</p>\n",
    "<p class=\"p3\"> 강아지 사진과 네이버 링크 p3 그룹 1</p>\n",
    "<p class=\"p3\"> 강아지 사진과 네이버 링크 p3 그룹 2</p>\n",
    "<p id=\"p4_only\"> 강아지 사진과 네이버 ID p4 </p>\n",
    "<pre>\n",
    " 내가 가장 좋아하는 동물은 강아지입니다.\n",
    " 나는 그리고 네이버 홈페이지에 자주 갑니다.\n",
    " </pre>\n",
    "</div>\n",
    "<div>\n",
    "<p class=\"p3\"> 강아지 사진과 네이버 링크 p3 그룹 3</p>\n",
    "<p class=\"p3\"> 강아지 사진과 네이버 링크 p3 그룹 4</p>\n",
    "<p id=\"p5_only\"> 강아지 사진과 네이버 ID p4 </p>\n",
    "</div>\n",
    "</body>\n",
    "</html>\n",
    "'''"
   ]
  },
  {
   "cell_type": "code",
   "execution_count": 15,
   "metadata": {},
   "outputs": [
    {
     "data": {
      "text/plain": [
       "<html>\n",
       "<head><title>나의 홈페이지</title>\n",
       "</head><body>\n",
       "안녕하세요\n",
       "<div>\n",
       "<a class=\"url\" href=\"https://www.naver.com/\">naver</a>\n",
       "<a class=\"url\" href=\"https://www.google.com/\">google</a>\n",
       "<p> 내가 가장 좋아하는 동물은 강아지입니다.</p>\n",
       "<p> 나는 그리고 네이버 홈페이지에 자주 갑니다.</p>\n",
       "<p class=\"p3\"> 강아지 사진과 네이버 링크 p3 그룹 1</p>\n",
       "<p class=\"p3\"> 강아지 사진과 네이버 링크 p3 그룹 2</p>\n",
       "<p id=\"p4_only\"> 강아지 사진과 네이버 ID p4 </p>\n",
       "<pre>\n",
       " 내가 가장 좋아하는 동물은 강아지입니다.\n",
       " 나는 그리고 네이버 홈페이지에 자주 갑니다.\n",
       " </pre>\n",
       "</div>\n",
       "<div>\n",
       "<p class=\"p3\"> 강아지 사진과 네이버 링크 p3 그룹 3</p>\n",
       "<p class=\"p3\"> 강아지 사진과 네이버 링크 p3 그룹 4</p>\n",
       "<p id=\"p5_only\"> 강아지 사진과 네이버 ID p4 </p>\n",
       "</div>\n",
       "</body>\n",
       "</html>"
      ]
     },
     "execution_count": 15,
     "metadata": {},
     "output_type": "execute_result"
    }
   ],
   "source": [
    "soup = BeautifulSoup(html, 'lxml')\n",
    "soup"
   ]
  },
  {
   "cell_type": "markdown",
   "metadata": {},
   "source": [
    "### 실습1 \n",
    " * p태그의 id가 'p4_only'인 정보를 가지고 와 주세요.\n",
    " * p태그의 class가 'p3'인 정보를 가지고 와 주세요.\n",
    " * a태그의 href의 속성 정보를 가지고 와 주세요.\n",
    " * pre태그의 정보를 가지고 와 주세요"
   ]
  },
  {
   "cell_type": "code",
   "execution_count": 16,
   "metadata": {},
   "outputs": [
    {
     "name": "stdout",
     "output_type": "stream",
     "text": [
      "<html>\n",
      " <head>\n",
      "  <title>\n",
      "   나의 홈페이지\n",
      "  </title>\n",
      " </head>\n",
      " <body>\n",
      "  안녕하세요\n",
      "  <div>\n",
      "   <a class=\"url\" href=\"https://www.naver.com/\">\n",
      "    naver\n",
      "   </a>\n",
      "   <a class=\"url\" href=\"https://www.google.com/\">\n",
      "    google\n",
      "   </a>\n",
      "   <p>\n",
      "    내가 가장 좋아하는 동물은 강아지입니다.\n",
      "   </p>\n",
      "   <p>\n",
      "    나는 그리고 네이버 홈페이지에 자주 갑니다.\n",
      "   </p>\n",
      "   <p class=\"p3\">\n",
      "    강아지 사진과 네이버 링크 p3 그룹 1\n",
      "   </p>\n",
      "   <p class=\"p3\">\n",
      "    강아지 사진과 네이버 링크 p3 그룹 2\n",
      "   </p>\n",
      "   <p id=\"p4_only\">\n",
      "    강아지 사진과 네이버 ID p4\n",
      "   </p>\n",
      "   <pre>\n",
      " 내가 가장 좋아하는 동물은 강아지입니다.\n",
      " 나는 그리고 네이버 홈페이지에 자주 갑니다.\n",
      " </pre>\n",
      "  </div>\n",
      "  <div>\n",
      "   <p class=\"p3\">\n",
      "    강아지 사진과 네이버 링크 p3 그룹 3\n",
      "   </p>\n",
      "   <p class=\"p3\">\n",
      "    강아지 사진과 네이버 링크 p3 그룹 4\n",
      "   </p>\n",
      "   <p id=\"p5_only\">\n",
      "    강아지 사진과 네이버 ID p4\n",
      "   </p>\n",
      "  </div>\n",
      " </body>\n",
      "</html>\n",
      "\n"
     ]
    }
   ],
   "source": [
    "print(soup.prettify())"
   ]
  },
  {
   "cell_type": "markdown",
   "metadata": {},
   "source": [
    "### children 를 활용\n",
    " * 자신의 요소의 자식들의 요소를 가지고 올 수 있다.\n",
    " * content속성(or contents)을 이용하여 가져올수도 있음.\n",
    " * 기타 parents, next_sibling, next_elements 등이 있음"
   ]
  },
  {
   "cell_type": "code",
   "execution_count": 17,
   "metadata": {},
   "outputs": [
    {
     "data": {
      "text/plain": [
       "<list_iterator at 0x1bd47100400>"
      ]
     },
     "execution_count": 17,
     "metadata": {},
     "output_type": "execute_result"
    }
   ],
   "source": [
    "soup.children"
   ]
  },
  {
   "cell_type": "code",
   "execution_count": 18,
   "metadata": {},
   "outputs": [
    {
     "data": {
      "text/plain": [
       "[<html>\n",
       " <head><title>나의 홈페이지</title>\n",
       " </head><body>\n",
       " 안녕하세요\n",
       " <div>\n",
       " <a class=\"url\" href=\"https://www.naver.com/\">naver</a>\n",
       " <a class=\"url\" href=\"https://www.google.com/\">google</a>\n",
       " <p> 내가 가장 좋아하는 동물은 강아지입니다.</p>\n",
       " <p> 나는 그리고 네이버 홈페이지에 자주 갑니다.</p>\n",
       " <p class=\"p3\"> 강아지 사진과 네이버 링크 p3 그룹 1</p>\n",
       " <p class=\"p3\"> 강아지 사진과 네이버 링크 p3 그룹 2</p>\n",
       " <p id=\"p4_only\"> 강아지 사진과 네이버 ID p4 </p>\n",
       " <pre>\n",
       "  내가 가장 좋아하는 동물은 강아지입니다.\n",
       "  나는 그리고 네이버 홈페이지에 자주 갑니다.\n",
       "  </pre>\n",
       " </div>\n",
       " <div>\n",
       " <p class=\"p3\"> 강아지 사진과 네이버 링크 p3 그룹 3</p>\n",
       " <p class=\"p3\"> 강아지 사진과 네이버 링크 p3 그룹 4</p>\n",
       " <p id=\"p5_only\"> 강아지 사진과 네이버 ID p4 </p>\n",
       " </div>\n",
       " </body>\n",
       " </html>,\n",
       " '\\n']"
      ]
     },
     "execution_count": 18,
     "metadata": {},
     "output_type": "execute_result"
    }
   ],
   "source": [
    "soup_children_list = list(soup.children)\n",
    "soup_children_list"
   ]
  },
  {
   "cell_type": "markdown",
   "metadata": {},
   "source": [
    "### html 태그의 자식들"
   ]
  },
  {
   "cell_type": "code",
   "execution_count": 19,
   "metadata": {},
   "outputs": [
    {
     "data": {
      "text/plain": [
       "['\\n',\n",
       " <head><title>나의 홈페이지</title>\n",
       " </head>,\n",
       " <body>\n",
       " 안녕하세요\n",
       " <div>\n",
       " <a class=\"url\" href=\"https://www.naver.com/\">naver</a>\n",
       " <a class=\"url\" href=\"https://www.google.com/\">google</a>\n",
       " <p> 내가 가장 좋아하는 동물은 강아지입니다.</p>\n",
       " <p> 나는 그리고 네이버 홈페이지에 자주 갑니다.</p>\n",
       " <p class=\"p3\"> 강아지 사진과 네이버 링크 p3 그룹 1</p>\n",
       " <p class=\"p3\"> 강아지 사진과 네이버 링크 p3 그룹 2</p>\n",
       " <p id=\"p4_only\"> 강아지 사진과 네이버 ID p4 </p>\n",
       " <pre>\n",
       "  내가 가장 좋아하는 동물은 강아지입니다.\n",
       "  나는 그리고 네이버 홈페이지에 자주 갑니다.\n",
       "  </pre>\n",
       " </div>\n",
       " <div>\n",
       " <p class=\"p3\"> 강아지 사진과 네이버 링크 p3 그룹 3</p>\n",
       " <p class=\"p3\"> 강아지 사진과 네이버 링크 p3 그룹 4</p>\n",
       " <p id=\"p5_only\"> 강아지 사진과 네이버 ID p4 </p>\n",
       " </div>\n",
       " </body>,\n",
       " '\\n']"
      ]
     },
     "execution_count": 19,
     "metadata": {},
     "output_type": "execute_result"
    }
   ],
   "source": [
    "list( soup_children_list[0].children )"
   ]
  },
  {
   "cell_type": "code",
   "execution_count": 20,
   "metadata": {},
   "outputs": [
    {
     "data": {
      "text/plain": [
       "['\\n안녕하세요\\n',\n",
       " <div>\n",
       " <a class=\"url\" href=\"https://www.naver.com/\">naver</a>\n",
       " <a class=\"url\" href=\"https://www.google.com/\">google</a>\n",
       " <p> 내가 가장 좋아하는 동물은 강아지입니다.</p>\n",
       " <p> 나는 그리고 네이버 홈페이지에 자주 갑니다.</p>\n",
       " <p class=\"p3\"> 강아지 사진과 네이버 링크 p3 그룹 1</p>\n",
       " <p class=\"p3\"> 강아지 사진과 네이버 링크 p3 그룹 2</p>\n",
       " <p id=\"p4_only\"> 강아지 사진과 네이버 ID p4 </p>\n",
       " <pre>\n",
       "  내가 가장 좋아하는 동물은 강아지입니다.\n",
       "  나는 그리고 네이버 홈페이지에 자주 갑니다.\n",
       "  </pre>\n",
       " </div>,\n",
       " '\\n',\n",
       " <div>\n",
       " <p class=\"p3\"> 강아지 사진과 네이버 링크 p3 그룹 3</p>\n",
       " <p class=\"p3\"> 강아지 사진과 네이버 링크 p3 그룹 4</p>\n",
       " <p id=\"p5_only\"> 강아지 사진과 네이버 ID p4 </p>\n",
       " </div>,\n",
       " '\\n']"
      ]
     },
     "execution_count": 20,
     "metadata": {},
     "output_type": "execute_result"
    }
   ],
   "source": [
    "tmp = list ( soup_children_list[0].children )\n",
    "\n",
    "# head의 children\n",
    "tmp = list(tmp[2].children)\n",
    "tmp"
   ]
  },
  {
   "cell_type": "code",
   "execution_count": 21,
   "metadata": {},
   "outputs": [
    {
     "data": {
      "text/plain": [
       "<body>\n",
       "안녕하세요\n",
       "<div>\n",
       "<a class=\"url\" href=\"https://www.naver.com/\">naver</a>\n",
       "<a class=\"url\" href=\"https://www.google.com/\">google</a>\n",
       "<p> 내가 가장 좋아하는 동물은 강아지입니다.</p>\n",
       "<p> 나는 그리고 네이버 홈페이지에 자주 갑니다.</p>\n",
       "<p class=\"p3\"> 강아지 사진과 네이버 링크 p3 그룹 1</p>\n",
       "<p class=\"p3\"> 강아지 사진과 네이버 링크 p3 그룹 2</p>\n",
       "<p id=\"p4_only\"> 강아지 사진과 네이버 ID p4 </p>\n",
       "<pre>\n",
       " 내가 가장 좋아하는 동물은 강아지입니다.\n",
       " 나는 그리고 네이버 홈페이지에 자주 갑니다.\n",
       " </pre>\n",
       "</div>\n",
       "<div>\n",
       "<p class=\"p3\"> 강아지 사진과 네이버 링크 p3 그룹 3</p>\n",
       "<p class=\"p3\"> 강아지 사진과 네이버 링크 p3 그룹 4</p>\n",
       "<p id=\"p5_only\"> 강아지 사진과 네이버 ID p4 </p>\n",
       "</div>\n",
       "</body>"
      ]
     },
     "execution_count": 21,
     "metadata": {},
     "output_type": "execute_result"
    }
   ],
   "source": [
    "### body 부분 정보 얻기\n",
    "Content_Body = soup.body\n",
    "Content_Body"
   ]
  },
  {
   "cell_type": "code",
   "execution_count": 22,
   "metadata": {},
   "outputs": [
    {
     "data": {
      "text/plain": [
       "<div>\n",
       "<p class=\"p3\"> 강아지 사진과 네이버 링크 p3 그룹 3</p>\n",
       "<p class=\"p3\"> 강아지 사진과 네이버 링크 p3 그룹 4</p>\n",
       "<p id=\"p5_only\"> 강아지 사진과 네이버 ID p4 </p>\n",
       "</div>"
      ]
     },
     "execution_count": 22,
     "metadata": {},
     "output_type": "execute_result"
    }
   ],
   "source": [
    "Content_Body = list(soup_children_list[0].body)[3]\n",
    "Content_Body"
   ]
  },
  {
   "cell_type": "markdown",
   "metadata": {},
   "source": [
    "### find을 이용한 하나의 정보 얻기"
   ]
  },
  {
   "cell_type": "code",
   "execution_count": 23,
   "metadata": {},
   "outputs": [
    {
     "data": {
      "text/plain": [
       "<html>\n",
       "<head><title>나의 홈페이지</title>\n",
       "</head><body>\n",
       "안녕하세요\n",
       "<div>\n",
       "<a class=\"url\" href=\"https://www.naver.com/\">naver</a>\n",
       "<a class=\"url\" href=\"https://www.google.com/\">google</a>\n",
       "<p> 내가 가장 좋아하는 동물은 강아지입니다.</p>\n",
       "<p> 나는 그리고 네이버 홈페이지에 자주 갑니다.</p>\n",
       "<p class=\"p3\"> 강아지 사진과 네이버 링크 p3 그룹 1</p>\n",
       "<p class=\"p3\"> 강아지 사진과 네이버 링크 p3 그룹 2</p>\n",
       "<p id=\"p4_only\"> 강아지 사진과 네이버 ID p4 </p>\n",
       "<pre>\n",
       " 내가 가장 좋아하는 동물은 강아지입니다.\n",
       " 나는 그리고 네이버 홈페이지에 자주 갑니다.\n",
       " </pre>\n",
       "</div>\n",
       "<div>\n",
       "<p class=\"p3\"> 강아지 사진과 네이버 링크 p3 그룹 3</p>\n",
       "<p class=\"p3\"> 강아지 사진과 네이버 링크 p3 그룹 4</p>\n",
       "<p id=\"p5_only\"> 강아지 사진과 네이버 ID p4 </p>\n",
       "</div>\n",
       "</body>\n",
       "</html>"
      ]
     },
     "execution_count": 23,
     "metadata": {},
     "output_type": "execute_result"
    }
   ],
   "source": [
    "soup"
   ]
  },
  {
   "cell_type": "code",
   "execution_count": 24,
   "metadata": {},
   "outputs": [
    {
     "data": {
      "text/plain": [
       "<p> 내가 가장 좋아하는 동물은 강아지입니다.</p>"
      ]
     },
     "execution_count": 24,
     "metadata": {},
     "output_type": "execute_result"
    }
   ],
   "source": [
    "soup.find('p')"
   ]
  },
  {
   "cell_type": "code",
   "execution_count": 25,
   "metadata": {},
   "outputs": [
    {
     "data": {
      "text/plain": [
       "<title>나의 홈페이지</title>"
      ]
     },
     "execution_count": 25,
     "metadata": {},
     "output_type": "execute_result"
    }
   ],
   "source": [
    "soup.find('title')"
   ]
  },
  {
   "cell_type": "code",
   "execution_count": 26,
   "metadata": {},
   "outputs": [
    {
     "data": {
      "text/plain": [
       "<div>\n",
       "<a class=\"url\" href=\"https://www.naver.com/\">naver</a>\n",
       "<a class=\"url\" href=\"https://www.google.com/\">google</a>\n",
       "<p> 내가 가장 좋아하는 동물은 강아지입니다.</p>\n",
       "<p> 나는 그리고 네이버 홈페이지에 자주 갑니다.</p>\n",
       "<p class=\"p3\"> 강아지 사진과 네이버 링크 p3 그룹 1</p>\n",
       "<p class=\"p3\"> 강아지 사진과 네이버 링크 p3 그룹 2</p>\n",
       "<p id=\"p4_only\"> 강아지 사진과 네이버 ID p4 </p>\n",
       "<pre>\n",
       " 내가 가장 좋아하는 동물은 강아지입니다.\n",
       " 나는 그리고 네이버 홈페이지에 자주 갑니다.\n",
       " </pre>\n",
       "</div>"
      ]
     },
     "execution_count": 26,
     "metadata": {},
     "output_type": "execute_result"
    }
   ],
   "source": [
    "soup.find('div')"
   ]
  },
  {
   "cell_type": "markdown",
   "metadata": {},
   "source": [
    "### 1-8 find_all를 이용하기\n",
    "  * find가 하나의 정보를 가져오는 것이라면 find_all은 확인되는 전체 정보를 가지고 온다.\n",
    "  * find_all 은 반환되는 값의 형태는 리스트가 된다.\n",
    "  * limit 키워드를 사용하여 태그 수의 제한두기(.., limit=1)"
   ]
  },
  {
   "cell_type": "code",
   "execution_count": 27,
   "metadata": {},
   "outputs": [
    {
     "data": {
      "text/plain": [
       "<html>\n",
       "<head><title>나의 홈페이지</title>\n",
       "</head><body>\n",
       "안녕하세요\n",
       "<div>\n",
       "<a class=\"url\" href=\"https://www.naver.com/\">naver</a>\n",
       "<a class=\"url\" href=\"https://www.google.com/\">google</a>\n",
       "<p> 내가 가장 좋아하는 동물은 강아지입니다.</p>\n",
       "<p> 나는 그리고 네이버 홈페이지에 자주 갑니다.</p>\n",
       "<p class=\"p3\"> 강아지 사진과 네이버 링크 p3 그룹 1</p>\n",
       "<p class=\"p3\"> 강아지 사진과 네이버 링크 p3 그룹 2</p>\n",
       "<p id=\"p4_only\"> 강아지 사진과 네이버 ID p4 </p>\n",
       "<pre>\n",
       " 내가 가장 좋아하는 동물은 강아지입니다.\n",
       " 나는 그리고 네이버 홈페이지에 자주 갑니다.\n",
       " </pre>\n",
       "</div>\n",
       "<div>\n",
       "<p class=\"p3\"> 강아지 사진과 네이버 링크 p3 그룹 3</p>\n",
       "<p class=\"p3\"> 강아지 사진과 네이버 링크 p3 그룹 4</p>\n",
       "<p id=\"p5_only\"> 강아지 사진과 네이버 ID p4 </p>\n",
       "</div>\n",
       "</body>\n",
       "</html>"
      ]
     },
     "execution_count": 27,
     "metadata": {},
     "output_type": "execute_result"
    }
   ],
   "source": [
    "soup"
   ]
  },
  {
   "cell_type": "code",
   "execution_count": 28,
   "metadata": {},
   "outputs": [
    {
     "data": {
      "text/plain": [
       "[<p> 내가 가장 좋아하는 동물은 강아지입니다.</p>,\n",
       " <p> 나는 그리고 네이버 홈페이지에 자주 갑니다.</p>,\n",
       " <p class=\"p3\"> 강아지 사진과 네이버 링크 p3 그룹 1</p>,\n",
       " <p class=\"p3\"> 강아지 사진과 네이버 링크 p3 그룹 2</p>,\n",
       " <p id=\"p4_only\"> 강아지 사진과 네이버 ID p4 </p>,\n",
       " <p class=\"p3\"> 강아지 사진과 네이버 링크 p3 그룹 3</p>,\n",
       " <p class=\"p3\"> 강아지 사진과 네이버 링크 p3 그룹 4</p>,\n",
       " <p id=\"p5_only\"> 강아지 사진과 네이버 ID p4 </p>]"
      ]
     },
     "execution_count": 28,
     "metadata": {},
     "output_type": "execute_result"
    }
   ],
   "source": [
    "soup.find_all('p')"
   ]
  },
  {
   "cell_type": "code",
   "execution_count": 29,
   "metadata": {},
   "outputs": [
    {
     "data": {
      "text/plain": [
       "[]"
      ]
     },
     "execution_count": 29,
     "metadata": {},
     "output_type": "execute_result"
    }
   ],
   "source": [
    "soup.find_all('p', class_ = 'ptag')"
   ]
  },
  {
   "cell_type": "markdown",
   "metadata": {},
   "source": [
    "### 1-9 soup.find_all로 확인된 정보 하나 하나의 값에 접근하기\n",
    "  * 기본적으로 리스트 형태이기에 for문을 이용하여 접근이 가능하다."
   ]
  },
  {
   "cell_type": "code",
   "execution_count": 30,
   "metadata": {},
   "outputs": [
    {
     "name": "stdout",
     "output_type": "stream",
     "text": [
      "<p> 내가 가장 좋아하는 동물은 강아지입니다.</p>\n",
      "<p> 나는 그리고 네이버 홈페이지에 자주 갑니다.</p>\n",
      "<p class=\"p3\"> 강아지 사진과 네이버 링크 p3 그룹 1</p>\n",
      "<p class=\"p3\"> 강아지 사진과 네이버 링크 p3 그룹 2</p>\n",
      "<p id=\"p4_only\"> 강아지 사진과 네이버 ID p4 </p>\n",
      "<p class=\"p3\"> 강아지 사진과 네이버 링크 p3 그룹 3</p>\n",
      "<p class=\"p3\"> 강아지 사진과 네이버 링크 p3 그룹 4</p>\n",
      "<p id=\"p5_only\"> 강아지 사진과 네이버 ID p4 </p>\n"
     ]
    }
   ],
   "source": [
    "for ptag in soup.find_all('p'):\n",
    "    print(ptag)"
   ]
  },
  {
   "cell_type": "code",
   "execution_count": 31,
   "metadata": {},
   "outputs": [
    {
     "name": "stdout",
     "output_type": "stream",
     "text": [
      " 내가 가장 좋아하는 동물은 강아지입니다.\n",
      " 나는 그리고 네이버 홈페이지에 자주 갑니다.\n",
      " 강아지 사진과 네이버 링크 p3 그룹 1\n",
      " 강아지 사진과 네이버 링크 p3 그룹 2\n",
      " 강아지 사진과 네이버 ID p4 \n",
      " 강아지 사진과 네이버 링크 p3 그룹 3\n",
      " 강아지 사진과 네이버 링크 p3 그룹 4\n",
      " 강아지 사진과 네이버 ID p4 \n"
     ]
    }
   ],
   "source": [
    "for ptag in soup.find_all('p'):\n",
    "    print(ptag.text)"
   ]
  },
  {
   "cell_type": "code",
   "execution_count": 32,
   "metadata": {},
   "outputs": [
    {
     "name": "stdout",
     "output_type": "stream",
     "text": [
      " 내가 가장 좋아하는 동물은 강아지입니다.\n",
      " 나는 그리고 네이버 홈페이지에 자주 갑니다.\n",
      " 강아지 사진과 네이버 링크 p3 그룹 1\n",
      " 강아지 사진과 네이버 링크 p3 그룹 2\n",
      " 강아지 사진과 네이버 ID p4 \n",
      " 강아지 사진과 네이버 링크 p3 그룹 3\n",
      " 강아지 사진과 네이버 링크 p3 그룹 4\n",
      " 강아지 사진과 네이버 ID p4 \n"
     ]
    }
   ],
   "source": [
    "for ptag in soup.find_all('p'):\n",
    "    print(ptag.get_text())"
   ]
  },
  {
   "cell_type": "markdown",
   "metadata": {},
   "source": [
    "### 1-10 링크를 가져오기"
   ]
  },
  {
   "cell_type": "code",
   "execution_count": 33,
   "metadata": {},
   "outputs": [
    {
     "data": {
      "text/plain": [
       "[<a class=\"url\" href=\"https://www.naver.com/\">naver</a>,\n",
       " <a class=\"url\" href=\"https://www.google.com/\">google</a>]"
      ]
     },
     "execution_count": 33,
     "metadata": {},
     "output_type": "execute_result"
    }
   ],
   "source": [
    "soup.find_all('a')"
   ]
  },
  {
   "cell_type": "code",
   "execution_count": 34,
   "metadata": {},
   "outputs": [
    {
     "name": "stdout",
     "output_type": "stream",
     "text": [
      "https://www.google.com/\n",
      "google\n"
     ]
    }
   ],
   "source": [
    "links = soup.find_all('a')\n",
    "print(links[1]['href'])\n",
    "print(links[1].string)"
   ]
  },
  {
   "cell_type": "code",
   "execution_count": 35,
   "metadata": {},
   "outputs": [
    {
     "name": "stdout",
     "output_type": "stream",
     "text": [
      "naver -> https://www.naver.com/\n",
      "google -> https://www.google.com/\n"
     ]
    }
   ],
   "source": [
    "for each in links:\n",
    "    href = each['href']\n",
    "    text = each.string\n",
    "    print(text + ' -> ' + href)"
   ]
  },
  {
   "cell_type": "markdown",
   "metadata": {},
   "source": [
    "### 1-11 next_sibling와 previous_sibling 활용\n",
    " * next_sibling와 previous_sibling 활용하여 형제형제인 태그에 접근 가능"
   ]
  },
  {
   "cell_type": "code",
   "execution_count": 36,
   "metadata": {},
   "outputs": [
    {
     "data": {
      "text/plain": [
       "<html>\n",
       "<head><title>나의 홈페이지</title>\n",
       "</head><body>\n",
       "안녕하세요\n",
       "<div>\n",
       "<a class=\"url\" href=\"https://www.naver.com/\">naver</a>\n",
       "<a class=\"url\" href=\"https://www.google.com/\">google</a>\n",
       "<p> 내가 가장 좋아하는 동물은 강아지입니다.</p>\n",
       "<p> 나는 그리고 네이버 홈페이지에 자주 갑니다.</p>\n",
       "<p class=\"p3\"> 강아지 사진과 네이버 링크 p3 그룹 1</p>\n",
       "<p class=\"p3\"> 강아지 사진과 네이버 링크 p3 그룹 2</p>\n",
       "<p id=\"p4_only\"> 강아지 사진과 네이버 ID p4 </p>\n",
       "<pre>\n",
       " 내가 가장 좋아하는 동물은 강아지입니다.\n",
       " 나는 그리고 네이버 홈페이지에 자주 갑니다.\n",
       " </pre>\n",
       "</div>\n",
       "<div>\n",
       "<p class=\"p3\"> 강아지 사진과 네이버 링크 p3 그룹 3</p>\n",
       "<p class=\"p3\"> 강아지 사진과 네이버 링크 p3 그룹 4</p>\n",
       "<p id=\"p5_only\"> 강아지 사진과 네이버 ID p4 </p>\n",
       "</div>\n",
       "</body>\n",
       "</html>"
      ]
     },
     "execution_count": 36,
     "metadata": {},
     "output_type": "execute_result"
    }
   ],
   "source": [
    "soup"
   ]
  },
  {
   "cell_type": "code",
   "execution_count": 37,
   "metadata": {},
   "outputs": [
    {
     "data": {
      "text/plain": [
       "<head><title>나의 홈페이지</title>\n",
       "</head>"
      ]
     },
     "execution_count": 37,
     "metadata": {},
     "output_type": "execute_result"
    }
   ],
   "source": [
    "soup.head"
   ]
  },
  {
   "cell_type": "code",
   "execution_count": 38,
   "metadata": {},
   "outputs": [
    {
     "data": {
      "text/plain": [
       "<body>\n",
       "안녕하세요\n",
       "<div>\n",
       "<a class=\"url\" href=\"https://www.naver.com/\">naver</a>\n",
       "<a class=\"url\" href=\"https://www.google.com/\">google</a>\n",
       "<p> 내가 가장 좋아하는 동물은 강아지입니다.</p>\n",
       "<p> 나는 그리고 네이버 홈페이지에 자주 갑니다.</p>\n",
       "<p class=\"p3\"> 강아지 사진과 네이버 링크 p3 그룹 1</p>\n",
       "<p class=\"p3\"> 강아지 사진과 네이버 링크 p3 그룹 2</p>\n",
       "<p id=\"p4_only\"> 강아지 사진과 네이버 ID p4 </p>\n",
       "<pre>\n",
       " 내가 가장 좋아하는 동물은 강아지입니다.\n",
       " 나는 그리고 네이버 홈페이지에 자주 갑니다.\n",
       " </pre>\n",
       "</div>\n",
       "<div>\n",
       "<p class=\"p3\"> 강아지 사진과 네이버 링크 p3 그룹 3</p>\n",
       "<p class=\"p3\"> 강아지 사진과 네이버 링크 p3 그룹 4</p>\n",
       "<p id=\"p5_only\"> 강아지 사진과 네이버 ID p4 </p>\n",
       "</div>\n",
       "</body>"
      ]
     },
     "execution_count": 38,
     "metadata": {},
     "output_type": "execute_result"
    }
   ],
   "source": [
    "soup.head.next_sibling"
   ]
  },
  {
   "cell_type": "code",
   "execution_count": 39,
   "metadata": {},
   "outputs": [
    {
     "data": {
      "text/plain": [
       "'\\n'"
      ]
     },
     "execution_count": 39,
     "metadata": {},
     "output_type": "execute_result"
    }
   ],
   "source": [
    "soup.head.next_sibling.next_sibling  # 다음다음."
   ]
  },
  {
   "cell_type": "code",
   "execution_count": 40,
   "metadata": {},
   "outputs": [
    {
     "data": {
      "text/plain": [
       "<div>\n",
       "<a class=\"url\" href=\"https://www.naver.com/\">naver</a>\n",
       "<a class=\"url\" href=\"https://www.google.com/\">google</a>\n",
       "<p> 내가 가장 좋아하는 동물은 강아지입니다.</p>\n",
       "<p> 나는 그리고 네이버 홈페이지에 자주 갑니다.</p>\n",
       "<p class=\"p3\"> 강아지 사진과 네이버 링크 p3 그룹 1</p>\n",
       "<p class=\"p3\"> 강아지 사진과 네이버 링크 p3 그룹 2</p>\n",
       "<p id=\"p4_only\"> 강아지 사진과 네이버 ID p4 </p>\n",
       "<pre>\n",
       " 내가 가장 좋아하는 동물은 강아지입니다.\n",
       " 나는 그리고 네이버 홈페이지에 자주 갑니다.\n",
       " </pre>\n",
       "</div>"
      ]
     },
     "execution_count": 40,
     "metadata": {},
     "output_type": "execute_result"
    }
   ],
   "source": [
    "soup.div    # body안의 div으로 접근"
   ]
  },
  {
   "cell_type": "code",
   "execution_count": 41,
   "metadata": {},
   "outputs": [
    {
     "data": {
      "text/plain": [
       "<a class=\"url\" href=\"https://www.naver.com/\">naver</a>"
      ]
     },
     "execution_count": 41,
     "metadata": {},
     "output_type": "execute_result"
    }
   ],
   "source": [
    "soup.div.a"
   ]
  },
  {
   "cell_type": "code",
   "execution_count": 42,
   "metadata": {},
   "outputs": [
    {
     "data": {
      "text/plain": [
       "'\\n'"
      ]
     },
     "execution_count": 42,
     "metadata": {},
     "output_type": "execute_result"
    }
   ],
   "source": [
    "soup.div.a.next_sibling"
   ]
  },
  {
   "cell_type": "code",
   "execution_count": 43,
   "metadata": {},
   "outputs": [
    {
     "data": {
      "text/plain": [
       "<a class=\"url\" href=\"https://www.google.com/\">google</a>"
      ]
     },
     "execution_count": 43,
     "metadata": {},
     "output_type": "execute_result"
    }
   ],
   "source": [
    "soup.div.a.next_sibling.next_sibling"
   ]
  },
  {
   "cell_type": "markdown",
   "metadata": {},
   "source": [
    "### 기타 알아보기\n",
    "* select()를 활용한 검색 결과 확인해 보기\n",
    "* extract()를 활용한 태그를 지우기\n",
    "* bs4와 re의 조합으로 좀 더 효율적으로 정보를 찾아보기"
   ]
  },
  {
   "cell_type": "markdown",
   "metadata": {},
   "source": [
    "### Ref"
   ]
  },
  {
   "cell_type": "code",
   "execution_count": 44,
   "metadata": {},
   "outputs": [
    {
     "name": "stdout",
     "output_type": "stream",
     "text": [
      "C:\\Users\\toto\\Documents\\Github\\PythonBasic\\02_unit02_01_web\\class01_01_bs4_A\\CL02_02_01_bs4\n"
     ]
    }
   ],
   "source": [
    "import os\n",
    "print(os.getcwd()) #현재 이 주피터노트북의 주소"
   ]
  },
  {
   "cell_type": "markdown",
   "metadata": {},
   "source": [
    "<p style=\"text-align: right; font-size:1px;color:#B0BEC5\"> 교육의 목적으로 수강생의 개인 학습 이외의 허가 없이 배포 및 복제를 금합니다.<br> Copyright 2021. daniel lim Co., Ltd. all rights reserved.</p>"
   ]
  },
  {
   "cell_type": "code",
   "execution_count": null,
   "metadata": {},
   "outputs": [],
   "source": []
  }
 ],
 "metadata": {
  "kernelspec": {
   "display_name": "Python 3",
   "language": "python",
   "name": "python3"
  },
  "language_info": {
   "codemirror_mode": {
    "name": "ipython",
    "version": 3
   },
   "file_extension": ".py",
   "mimetype": "text/x-python",
   "name": "python",
   "nbconvert_exporter": "python",
   "pygments_lexer": "ipython3",
   "version": "3.8.5"
  }
 },
 "nbformat": 4,
 "nbformat_minor": 2
}
